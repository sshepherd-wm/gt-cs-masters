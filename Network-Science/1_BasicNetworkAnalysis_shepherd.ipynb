{
 "cells": [
  {
   "cell_type": "markdown",
   "metadata": {},
   "source": [
    "# Analyzing A Network of Synaptic Interactions [100 Points]"
   ]
  },
  {
   "cell_type": "code",
   "execution_count": 234,
   "metadata": {},
   "outputs": [],
   "source": [
    "import matplotlib.pyplot as plt\n",
    "import networkx as nx\n",
    "import seaborn as sns\n",
    "import numpy as np\n",
    "import scipy as sp\n",
    "\n",
    "## stephen\n",
    "import pandas as pd"
   ]
  },
  {
   "cell_type": "markdown",
   "metadata": {},
   "source": [
    "## Part I"
   ]
  },
  {
   "cell_type": "markdown",
   "metadata": {},
   "source": [
    "#### Part I-1"
   ]
  },
  {
   "cell_type": "code",
   "execution_count": 235,
   "metadata": {},
   "outputs": [
    {
     "name": "stderr",
     "output_type": "stream",
     "text": [
      "C:\\Users\\sshepherd\\AppData\\Local\\Continuum\\anaconda3\\lib\\site-packages\\networkx\\drawing\\nx_pylab.py:579: MatplotlibDeprecationWarning: \n",
      "The iterable function was deprecated in Matplotlib 3.1 and will be removed in 3.3. Use np.iterable instead.\n",
      "  if not cb.iterable(width):\n"
     ]
    },
    {
     "data": {
      "image/png": "[encoded data removed]",
      "text/plain": [
       "<Figure size 432x288 with 1 Axes>"
      ]
     },
     "metadata": {},
     "output_type": "display_data"
    }
   ],
   "source": [
    "g = nx.Graph()\n",
    "\n",
    "edges = [\n",
    "    (0,1), (0,2),\n",
    "    (1,2),\n",
    "    (2,3), (2,4),\n",
    "    (3,4),\n",
    "    (5,6),(5,7)\n",
    "]\n",
    "\n",
    "g.add_edges_from(edges)\n",
    "g.add_node(8)\n",
    "\n",
    "nx.draw(g, with_labels=True)"
   ]
  },
  {
   "cell_type": "markdown",
   "metadata": {},
   "source": [
    "#### Part I-2.a"
   ]
  },
  {
   "cell_type": "code",
   "execution_count": 236,
   "metadata": {},
   "outputs": [
    {
     "name": "stdout",
     "output_type": "stream",
     "text": [
      "128\n",
      "8128\n",
      "8\n",
      "\n",
      "[('Youngstown, OH', {}), ('Yankton, SD', {}), ('Yakima, WA', {}), ('Worcester, MA', {}), ('Wisconsin Dells, WI', {})]\n",
      "\n",
      "[('Youngstown, OH', 'Yankton, SD', {'weight': 966}), ('Youngstown, OH', 'Yakima, WA', {'weight': 2410}), ('Youngstown, OH', 'Worcester, MA', {'weight': 604}), ('Youngstown, OH', 'Wisconsin Dells, WI', {'weight': 595}), ('Youngstown, OH', 'Winston-Salem, NC', {'weight': 494})]\n"
     ]
    }
   ],
   "source": [
    "g = nx.read_graphml(\n",
    "    'Assignment1_Part1-2_cities_data.graphml')\n",
    "\n",
    "nodes = list(g.nodes(data=True))\n",
    "edges = list(g.edges(data=True))\n",
    "\n",
    "print(len(nodes))\n",
    "print(len(edges))\n",
    "print(len([e for e in edges if e[2]['weight'] < 50]))\n",
    "print()\n",
    "print(nodes[0:5])\n",
    "print()\n",
    "print(edges[0:5])"
   ]
  },
  {
   "cell_type": "markdown",
   "metadata": {},
   "source": [
    "Type your answer for Part I-2.a here\n",
    "_______________________________________________________________________________\n",
    "\n",
    "number of nodes: 128\n",
    "\n",
    "number of edges: 8128\n",
    "\n",
    "number of the pairs : 8\n"
   ]
  },
  {
   "cell_type": "markdown",
   "metadata": {},
   "source": [
    "#### Part I-2.b"
   ]
  },
  {
   "cell_type": "code",
   "execution_count": 237,
   "metadata": {},
   "outputs": [
    {
     "data": {
      "image/png": "[encoded data removed]",
      "text/plain": [
       "<Figure size 432x288 with 1 Axes>"
      ]
     },
     "metadata": {},
     "output_type": "display_data"
    }
   ],
   "source": [
    "#Implement your code and show the visualization of Question 4\n",
    "def cities_within_100(G, city_list):\n",
    "    '''\n",
    "    Input\n",
    "    G: graph\n",
    "    city_list: list of strings (names of cities in G)\n",
    "\n",
    "    Output\n",
    "    S: subgraph of G that only contains edges between cities in “city_list” and directly neighboring cities that are less than 100 miles away\n",
    "    '''\n",
    "    sg = nx.Graph()\n",
    "\n",
    "    sg.add_edges_from(\n",
    "        [e for e in list(G.edges(data=True)) if e[2]['weight'] < 100]\n",
    "    )\n",
    "    \n",
    "    neighbors = set()\n",
    "    for c in city_list:\n",
    "        neighbors.add( c )\n",
    "        nbrs =  list( sg.neighbors(c) )\n",
    "        [neighbors.add( n ) for n in nbrs]\n",
    "    \n",
    "    return sg.subgraph(list(neighbors))\n",
    "\n",
    "g = nx.read_graphml(\n",
    "    'Assignment1_Part1-2_cities_data.graphml')\n",
    "\n",
    "\n",
    "S = cities_within_100(\n",
    "    g,\n",
    "    [\"Savannah, GA\", \"Santa Rosa, CA\", \"San Francisco, CA\", \"San Jose, CA\"]\n",
    ")\n",
    "\n",
    "nx.draw(S, with_labels=True)"
   ]
  },
  {
   "cell_type": "markdown",
   "metadata": {},
   "source": [
    "#### Part I-3"
   ]
  },
  {
   "cell_type": "code",
   "execution_count": 238,
   "metadata": {},
   "outputs": [
    {
     "name": "stdout",
     "output_type": "stream",
     "text": [
      "max abs eigval\tmax degree\tavg degree\n",
      "cycl :\n",
      "2.0\t2\t2.0\n",
      "\n",
      "cliq :\n",
      "9.0\t9\t9.0\n",
      "\n",
      "star :\n",
      "3.0\t9\t1.8\n",
      "\n"
     ]
    }
   ],
   "source": [
    "n = 10\n",
    "\n",
    "cycl = nx.cycle_graph(n)\n",
    "cliq = nx.complete_graph(n)\n",
    "star = nx.star_graph(n - 1) ## for star graph, nodes are from 0 to in with 0 as center\n",
    "\n",
    "print('max abs eigval','max degree','avg degree', sep='\\t')\n",
    "for g in ['cycl','cliq','star']:\n",
    "    print(g,':')\n",
    "    g = globals()[g]\n",
    "    print(\n",
    "        #np.round(max(np.abs(np.linalg.eig( nx.to_numpy_matrix(g) )[0])), 2),\n",
    "        np.round(max(np.linalg.eig( nx.to_numpy_matrix(g) )[0]), 2),\n",
    "        np.max(list(dict(g.degree).values())),\n",
    "        np.mean(list(dict(g.degree).values())),\n",
    "        sep='\\t'\n",
    "    )\n",
    "    print()"
   ]
  },
  {
   "cell_type": "markdown",
   "metadata": {},
   "source": [
    "Type your answer for Part I-3 here\n",
    "_______________________________________________________________________________\n",
    "\n",
    "Cycle:  Max Eigval: 2, Max Degree: 2, Avg Degree: 2\n",
    "\n",
    "Clique: Max Eigval: 9, Max Degree: 9, Avg Degree: 9\n",
    "\n",
    "Star:   Max Eigval: 3, Max Degree: 9, Avg Degree: 1.8\n",
    "\n",
    "\n",
    "For Cycle and Clique, the largest eigenvalue of the adjacency matrix is equal to the maximum and average degrees of each network.  For Cycle, this will always be 2 and for Clique this will be n - 1.\n",
    "\n",
    "For Star, the largest eigenvalue of the adjacency matrix is equal to sqrt(n - 1)."
   ]
  },
  {
   "cell_type": "markdown",
   "metadata": {},
   "source": [
    "## PART II"
   ]
  },
  {
   "cell_type": "markdown",
   "metadata": {},
   "source": [
    "#### Part II-1"
   ]
  },
  {
   "cell_type": "code",
   "execution_count": 239,
   "metadata": {},
   "outputs": [
    {
     "data": {
      "image/png": "[encoded data removed]",
      "text/plain": [
       "<Figure size 432x288 with 1 Axes>"
      ]
     },
     "metadata": {},
     "output_type": "display_data"
    }
   ],
   "source": [
    "g = nx.read_gml(\n",
    "    'Assignment1_Part2_lesmis_data.gml')\n",
    "\n",
    "nx.draw(g)"
   ]
  },
  {
   "cell_type": "code",
   "execution_count": 240,
   "metadata": {},
   "outputs": [
    {
     "name": "stdout",
     "output_type": "stream",
     "text": [
      "True\n"
     ]
    }
   ],
   "source": [
    "print(nx.is_connected(g))"
   ]
  },
  {
   "cell_type": "markdown",
   "metadata": {},
   "source": [
    "Type your answer for Part II-1 here\n",
    "__________________________________\n",
    "\n",
    "Yes, this undirected graph is connected, based on nx.is_connected(g) above."
   ]
  },
  {
   "cell_type": "markdown",
   "metadata": {},
   "source": [
    "#### Part II-2"
   ]
  },
  {
   "cell_type": "code",
   "execution_count": 241,
   "metadata": {},
   "outputs": [
    {
     "data": {
      "text/plain": [
       "<matplotlib.axes._subplots.AxesSubplot at 0x174ab2d9a48>"
      ]
     },
     "execution_count": 241,
     "metadata": {},
     "output_type": "execute_result"
    },
    {
     "data": {
      "image/png": "[encoded data removed]",
      "text/plain": [
       "<Figure size 576x360 with 1 Axes>"
      ]
     },
     "metadata": {
      "needs_background": "light"
     },
     "output_type": "display_data"
    }
   ],
   "source": [
    "# ## edges weighted to one\n",
    "# one_edges = []\n",
    "# for e in g.edges(data=True):\n",
    "#     one_edges.append((e[0], e[1], {'value': 1}))\n",
    "g_ones = nx.Graph()\n",
    "g_ones.add_edges_from(g.edges())\n",
    "\n",
    "sp_vals = []\n",
    "sp = nx.shortest_path(g_ones)\n",
    "sp_vals = list(pd.json_normalize(sp).to_dict().values())\n",
    "sp_vals = [len(spv[0]) for spv in sp_vals]\n",
    "\n",
    "(\n",
    "    pd.DataFrame(data={'path_length': sp_vals})\n",
    "    .groupby('path_length')\n",
    "    .agg({'path_length':'count'})\n",
    "    .plot(kind='bar', figsize=[8,5])\n",
    ")"
   ]
  },
  {
   "cell_type": "markdown",
   "metadata": {},
   "source": [
    "#### Part II-3"
   ]
  },
  {
   "cell_type": "code",
   "execution_count": 242,
   "metadata": {
    "scrolled": true
   },
   "outputs": [
    {
     "data": {
      "text/html": [
       "<div>\n",
       "<style scoped>\n",
       "    .dataframe tbody tr th:only-of-type {\n",
       "        vertical-align: middle;\n",
       "    }\n",
       "\n",
       "    .dataframe tbody tr th {\n",
       "        vertical-align: top;\n",
       "    }\n",
       "\n",
       "    .dataframe thead th {\n",
       "        text-align: right;\n",
       "    }\n",
       "</style>\n",
       "<table border=\"1\" class=\"dataframe\">\n",
       "  <thead>\n",
       "    <tr style=\"text-align: right;\">\n",
       "      <th></th>\n",
       "      <th>character</th>\n",
       "      <th>weight</th>\n",
       "      <th>probability</th>\n",
       "    </tr>\n",
       "  </thead>\n",
       "  <tbody>\n",
       "    <tr>\n",
       "      <th>11</th>\n",
       "      <td>Valjean</td>\n",
       "      <td>158</td>\n",
       "      <td>0.096341</td>\n",
       "    </tr>\n",
       "    <tr>\n",
       "      <th>55</th>\n",
       "      <td>Marius</td>\n",
       "      <td>104</td>\n",
       "      <td>0.063415</td>\n",
       "    </tr>\n",
       "    <tr>\n",
       "      <th>58</th>\n",
       "      <td>Enjolras</td>\n",
       "      <td>91</td>\n",
       "      <td>0.055488</td>\n",
       "    </tr>\n",
       "    <tr>\n",
       "      <th>62</th>\n",
       "      <td>Courfeyrac</td>\n",
       "      <td>84</td>\n",
       "      <td>0.051220</td>\n",
       "    </tr>\n",
       "    <tr>\n",
       "      <th>59</th>\n",
       "      <td>Combeferre</td>\n",
       "      <td>68</td>\n",
       "      <td>0.041463</td>\n",
       "    </tr>\n",
       "    <tr>\n",
       "      <th>26</th>\n",
       "      <td>Cosette</td>\n",
       "      <td>68</td>\n",
       "      <td>0.041463</td>\n",
       "    </tr>\n",
       "    <tr>\n",
       "      <th>64</th>\n",
       "      <td>Bossuet</td>\n",
       "      <td>66</td>\n",
       "      <td>0.040244</td>\n",
       "    </tr>\n",
       "    <tr>\n",
       "      <th>25</th>\n",
       "      <td>Thenardier</td>\n",
       "      <td>61</td>\n",
       "      <td>0.037195</td>\n",
       "    </tr>\n",
       "    <tr>\n",
       "      <th>48</th>\n",
       "      <td>Gavroche</td>\n",
       "      <td>56</td>\n",
       "      <td>0.034146</td>\n",
       "    </tr>\n",
       "    <tr>\n",
       "      <th>27</th>\n",
       "      <td>Javert</td>\n",
       "      <td>47</td>\n",
       "      <td>0.028659</td>\n",
       "    </tr>\n",
       "  </tbody>\n",
       "</table>\n",
       "</div>"
      ],
      "text/plain": [
       "     character  weight  probability\n",
       "11     Valjean     158     0.096341\n",
       "55      Marius     104     0.063415\n",
       "58    Enjolras      91     0.055488\n",
       "62  Courfeyrac      84     0.051220\n",
       "59  Combeferre      68     0.041463\n",
       "26     Cosette      68     0.041463\n",
       "64     Bossuet      66     0.040244\n",
       "25  Thenardier      61     0.037195\n",
       "48    Gavroche      56     0.034146\n",
       "27      Javert      47     0.028659"
      ]
     },
     "execution_count": 242,
     "metadata": {},
     "output_type": "execute_result"
    }
   ],
   "source": [
    "degrees = list(dict(g.degree(weight='value')).items())\n",
    "\n",
    "degrees_df = pd.DataFrame(degrees, columns=['character','weight']).sort_values(by='weight', ascending=False)\n",
    "degrees_df['probability'] = degrees_df.weight / sum(degrees_df.weight)\n",
    "\n",
    "degrees_df.head(10)"
   ]
  },
  {
   "cell_type": "markdown",
   "metadata": {},
   "source": [
    "Type your answer for Part II-3 here\n",
    "_______________________________________________________________________________\n",
    "\n",
    "Top 3 characters:\n",
    "- Valjean\n",
    "- Marius\n",
    "- Enjolras"
   ]
  },
  {
   "cell_type": "markdown",
   "metadata": {},
   "source": [
    "## Part III"
   ]
  },
  {
   "cell_type": "code",
   "execution_count": 243,
   "metadata": {},
   "outputs": [
    {
     "name": "stdout",
     "output_type": "stream",
     "text": [
      "True 1781 33641\n"
     ]
    }
   ],
   "source": [
    "g = nx.read_graphml('Assignment1_Part3_drosophila_medulla_data.graphml')\n",
    "\n",
    "print(g.is_directed(), g.number_of_nodes(), g.number_of_edges())"
   ]
  },
  {
   "cell_type": "markdown",
   "metadata": {},
   "source": [
    "#### Part III-1"
   ]
  },
  {
   "cell_type": "code",
   "execution_count": 244,
   "metadata": {},
   "outputs": [
    {
     "name": "stdout",
     "output_type": "stream",
     "text": [
      "[1770, 3, 2, 2, 2, 2]\n",
      "0.9938236945536215\n"
     ]
    }
   ],
   "source": [
    "wcc = [len(c) for c in sorted(nx.weakly_connected_components(g), key=len, reverse=True)]\n",
    "print(wcc[:10])\n",
    "print(wcc[0] / g.number_of_nodes())"
   ]
  },
  {
   "cell_type": "markdown",
   "metadata": {},
   "source": [
    "Type your answer for Part III-1 here\n",
    "__________________________________\n",
    "\n",
    "- 99%"
   ]
  },
  {
   "cell_type": "markdown",
   "metadata": {},
   "source": [
    "#### Part III-2"
   ]
  },
  {
   "cell_type": "code",
   "execution_count": 245,
   "metadata": {},
   "outputs": [
    {
     "name": "stdout",
     "output_type": "stream",
     "text": [
      "[785, 2, 1, 1, 1, 1, 1, 1, 1, 1]\n",
      "0.4407636159460977\n"
     ]
    }
   ],
   "source": [
    "scc = [len(c) for c in sorted(nx.strongly_connected_components(g), key=len, reverse=True)]\n",
    "print(scc[:10])\n",
    "print(scc[0] / g.number_of_nodes())"
   ]
  },
  {
   "cell_type": "markdown",
   "metadata": {},
   "source": [
    "Type your answer for Part III-2 here\n",
    "_______________________________________________________________________________\n",
    "- 44%"
   ]
  },
  {
   "cell_type": "markdown",
   "metadata": {},
   "source": [
    "#### Part III-3"
   ]
  },
  {
   "cell_type": "code",
   "execution_count": 246,
   "metadata": {},
   "outputs": [
    {
     "name": "stdout",
     "output_type": "stream",
     "text": [
      "785\n",
      "785\n"
     ]
    },
    {
     "data": {
      "text/plain": [
       "<matplotlib.axes._subplots.AxesSubplot at 0x174ac1dd6c8>"
      ]
     },
     "execution_count": 246,
     "metadata": {},
     "output_type": "execute_result"
    },
    {
     "data": {
      "image/png": "[encoded data removed]",
      "text/plain": [
       "<Figure size 576x360 with 1 Axes>"
      ]
     },
     "metadata": {
      "needs_background": "light"
     },
     "output_type": "display_data"
    }
   ],
   "source": [
    "largest_scc = sorted(nx.strongly_connected_components(g), key=len, reverse=True)[0]\n",
    "print(len(largest_scc))\n",
    "\n",
    "sg = g.subgraph(largest_scc)\n",
    "print(sg.number_of_nodes())\n",
    "\n",
    "g_ones = nx.Graph()\n",
    "g_ones.add_edges_from(sg.edges())\n",
    "\n",
    "sp_vals = []\n",
    "sp = nx.shortest_path(g_ones)\n",
    "sp_vals = list(pd.json_normalize(sp).to_dict().values())\n",
    "sp_vals = [len(spv[0]) for spv in sp_vals]\n",
    "\n",
    "(\n",
    "    pd.DataFrame(data={'path_length': sp_vals})\n",
    "    .groupby('path_length')\n",
    "    .agg({'path_length':'count'})\n",
    "    .plot(kind='bar', figsize=[8,5])\n",
    ")"
   ]
  },
  {
   "cell_type": "markdown",
   "metadata": {},
   "source": [
    "## PART IV"
   ]
  },
  {
   "cell_type": "markdown",
   "metadata": {},
   "source": [
    "#### Part IV-1 "
   ]
  },
  {
   "cell_type": "code",
   "execution_count": 247,
   "metadata": {},
   "outputs": [
    {
     "name": "stdout",
     "output_type": "stream",
     "text": [
      "graph summary:\n",
      "True 177386 440237\n",
      "biadjacency matrix:\n",
      "56519 120867\n",
      "co-citation and bibliographic coupling:\n",
      "(120867, 120867)\n",
      "(56519, 56519)\n",
      "\n",
      "highest couples:\n",
      "user_325\tuser_655\t270\tshared projects\n",
      "project_299\tproject_17\t954\tshared users\n"
     ]
    }
   ],
   "source": [
    "edges = []\n",
    "\n",
    "with open('Assignment1_Part4_github_data.txt') as f:\n",
    "    for line in f.readlines():\n",
    "        vals = line.split(' ')\n",
    "        user    = 'user_' + vals[0]\n",
    "        project = 'project_' + vals[1]\n",
    "        edges.append((user,project))\n",
    "\n",
    "users = list(set([e[0] for e in edges]))\n",
    "projects = list(set([e[1] for e in edges]))\n",
    "\n",
    "g = nx.Graph()\n",
    "g.add_nodes_from(users, bipartite=0)\n",
    "g.add_nodes_from(projects, bipartite=1)\n",
    "g.add_edges_from(edges)\n",
    "\n",
    "print('graph summary:')\n",
    "print(nx.algorithms.bipartite.is_bipartite(g), g.number_of_nodes(), g.number_of_edges())\n",
    "\n",
    "print('biadjacency matrix:')\n",
    "user_nodes = {n for n, d in g.nodes(data=True) if d[\"bipartite\"] == 0}\n",
    "project_nodes = {n for n, d in g.nodes(data=True) if d[\"bipartite\"] == 1}\n",
    "print(len(user_nodes), len(project_nodes))\n",
    "\n",
    "biadj = nx.algorithms.bipartite.biadjacency_matrix(g, row_order=user_nodes, column_order=project_nodes)\n",
    "\n",
    "print('co-citation and bibliographic coupling:')\n",
    "citation = (np.transpose(biadj) * biadj).tocoo()\n",
    "citation.setdiag(0)\n",
    "biblio   = (biadj * np.transpose(biadj)).tocoo()\n",
    "biblio.setdiag(0)\n",
    "\n",
    "print(citation.shape)\n",
    "print(biblio.shape)\n",
    "\n",
    "def get_argmax_coordinates(coo_matrix):\n",
    "\n",
    "    arg_max = coo_matrix.data.argmax()\n",
    "    max_val = coo_matrix.data[arg_max]\n",
    "    max_row = coo_matrix.row[arg_max]\n",
    "    max_col = coo_matrix.col[arg_max]\n",
    "\n",
    "    return {'max_val': max_val, 'max_row': max_row, 'max_col': max_col}\n",
    "\n",
    "print('\\nhighest couples:')\n",
    "user_coupling = get_argmax_coordinates(biblio)\n",
    "print(list(user_nodes)[user_coupling['max_row']], list(user_nodes)[user_coupling['max_col']],\n",
    "      user_coupling['max_val'], 'shared projects', sep='\\t')\n",
    "\n",
    "project_coupling = get_argmax_coordinates(citation)\n",
    "print(list(project_nodes)[project_coupling['max_row']], list(project_nodes)[project_coupling['max_col']],\n",
    "      project_coupling['max_val'], 'shared users', sep='\\t')"
   ]
  },
  {
   "cell_type": "markdown",
   "metadata": {},
   "source": [
    "Type your answer for Part IV-1 here\n",
    "_______________________________________________________________________________\n",
    "People with most number of shared memberships:\n",
    "- user_325 & user_655"
   ]
  },
  {
   "cell_type": "code",
   "execution_count": 248,
   "metadata": {},
   "outputs": [],
   "source": [
    "#Part IV-2 (Continue)\n",
    "#Implement your code and write the answer in the Markdown cell right below"
   ]
  },
  {
   "cell_type": "markdown",
   "metadata": {},
   "source": [
    "Type your answer for Part IV-2 here\n",
    "_______________________________________________________________________________\n",
    "\n",
    "Projects with most number of shared users:\n",
    "- project_299 & project_17"
   ]
  },
  {
   "cell_type": "markdown",
   "metadata": {},
   "source": [
    "## PART V"
   ]
  },
  {
   "cell_type": "markdown",
   "metadata": {},
   "source": [
    "#### Part V-1"
   ]
  },
  {
   "cell_type": "code",
   "execution_count": 249,
   "metadata": {},
   "outputs": [
    {
     "name": "stdout",
     "output_type": "stream",
     "text": [
      "True 362 740\n",
      "\n",
      "is DAG?: False\n"
     ]
    }
   ],
   "source": [
    "edges = []\n",
    "cnt = 0\n",
    "with open('Assignment1_Part5_language_data.txt') as f:\n",
    "    for line in f.readlines():\n",
    "        cnt += 1\n",
    "        vals = line.split()\n",
    "        lang_influenced = vals[0]\n",
    "        lang_influencer = vals[1]\n",
    "        edges.append((lang_influencer,lang_influenced))\n",
    "        #print(cnt, vals)\n",
    "\n",
    "g = nx.DiGraph()\n",
    "g.add_edges_from(edges)\n",
    "print(g.is_directed(), g.number_of_nodes(), g.number_of_edges())\n",
    "\n",
    "print('\\nis DAG?:', nx.algorithms.dag.is_directed_acyclic_graph(g))"
   ]
  },
  {
   "cell_type": "markdown",
   "metadata": {},
   "source": [
    "Type your answer for Part V-1 here\n",
    "_______________________________________________________________________________\n",
    "\n",
    "- Not a DAG"
   ]
  },
  {
   "cell_type": "markdown",
   "metadata": {},
   "source": [
    "#### Part V-2"
   ]
  },
  {
   "cell_type": "code",
   "execution_count": 250,
   "metadata": {},
   "outputs": [
    {
     "name": "stdout",
     "output_type": "stream",
     "text": [
      "removing cycle: [('clean', 'haskell'), ('haskell', 'clean')]\n",
      "removing cycle: [('dylan', 'eulisp'), ('eulisp', 'dylan')]\n",
      "\n",
      "is DAG?: True\n"
     ]
    }
   ],
   "source": [
    "while not nx.algorithms.dag.is_directed_acyclic_graph(g):\n",
    "    cycles = sorted(nx.algorithms.cycles.find_cycle(g))\n",
    "    print('removing cycle:', cycles)\n",
    "    g.remove_edge(cycles[0][0], cycles[0][1])\n",
    "\n",
    "print('\\nis DAG?:', nx.algorithms.dag.is_directed_acyclic_graph(g))"
   ]
  },
  {
   "cell_type": "markdown",
   "metadata": {},
   "source": [
    "#### Part V-3"
   ]
  },
  {
   "cell_type": "code",
   "execution_count": 255,
   "metadata": {},
   "outputs": [
    {
     "name": "stdout",
     "output_type": "stream",
     "text": [
      "topological sort (first 5 and last 5):\n",
      "['digital_command_language', 'as/400_control_language', 'quickbasic', 'sp/k', 'sequel']\n",
      "['cobra', 'cel_(programming_language)', 'boo', 'mirah', 'genie']\n",
      "num source languages:\n",
      "183\n",
      "\n",
      "top influence (direct or indirect):\n"
     ]
    },
    {
     "data": {
      "text/plain": [
       "[('speedcoding', 242),\n",
       " ('fortran', 241),\n",
       " ('algol_58', 237),\n",
       " ('algol_60', 231),\n",
       " ('ipl', 183)]"
      ]
     },
     "execution_count": 255,
     "metadata": {},
     "output_type": "execute_result"
    }
   ],
   "source": [
    "print('topological sort (first 5 and last 5):')\n",
    "ts = list(nx.algorithms.dag.topological_sort(g))\n",
    "print(ts[0:5], ts[-5:], sep='\\n')\n",
    "\n",
    "print('num source languages:')\n",
    "print(len(set([e[0] for e in g.edges()])))\n",
    "\n",
    "print('\\ntop influence (direct or indirect):')\n",
    "node_descendants = []\n",
    "\n",
    "for n in g.nodes():\n",
    "    desc = nx.algorithms.dag.descendants(g, n)\n",
    "    node_descendants.append((n, len(desc)))#, desc))\n",
    "    \n",
    "sorted(node_descendants, key=lambda x: x[1], reverse=True)[0:5]"
   ]
  },
  {
   "cell_type": "markdown",
   "metadata": {},
   "source": [
    "Type your answer for Part V-3 here\n",
    "_______________________________________________________________________________\n",
    "- 183 \"source\" languages\n",
    "- 'speedcoding' is the top influencer (via direct/indirect)"
   ]
  },
  {
   "cell_type": "markdown",
   "metadata": {},
   "source": [
    "## Conda requirements"
   ]
  },
  {
   "cell_type": "code",
   "execution_count": 252,
   "metadata": {},
   "outputs": [],
   "source": [
    "! conda list -e > requirements.txt"
   ]
  },
  {
   "cell_type": "markdown",
   "metadata": {},
   "source": [
    "# END"
   ]
  }
 ],
 "metadata": {
  "kernelspec": {
   "display_name": "Python 3",
   "language": "python",
   "name": "python3"
  },
  "language_info": {
   "codemirror_mode": {
    "name": "ipython",
    "version": 3
   },
   "file_extension": ".py",
   "mimetype": "text/x-python",
   "name": "python",
   "nbconvert_exporter": "python",
   "pygments_lexer": "ipython3",
   "version": "3.7.4"
  }
 },
 "nbformat": 4,
 "nbformat_minor": 2
}
