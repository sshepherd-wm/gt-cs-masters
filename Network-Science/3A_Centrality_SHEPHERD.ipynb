{
 "cells": [
  {
   "cell_type": "code",
   "execution_count": 137,
   "metadata": {},
   "outputs": [],
   "source": [
    "import networkx as nx\n",
    "import numpy as np\n",
    "import pandas as pd\n",
    "import seaborn as sns\n",
    "\n",
    "from matplotlib import pyplot as plt\n",
    "%matplotlib inline"
   ]
  },
  {
   "cell_type": "markdown",
   "metadata": {},
   "source": [
    "---\n",
    "# Part 1"
   ]
  },
  {
   "cell_type": "markdown",
   "metadata": {},
   "source": [
    "### Load the Networks"
   ]
  },
  {
   "cell_type": "code",
   "execution_count": 86,
   "metadata": {},
   "outputs": [
    {
     "name": "stdout",
     "output_type": "stream",
     "text": [
      "G1 (yeast)\n",
      "688 1078 False 0.0046\n",
      "density: 0.0472\n",
      "[(1, 194, {'weight': 1.0}), (1, 199, {'weight': 1.0}), (194, 77, {'weight': 1.0})]\n",
      "\n",
      "G2 (airports)\n",
      "1574 17215 False 0.0139\n",
      "density: 0.5042\n",
      "[(1, 47, {'weight': 9.0}), (1, 832, {'weight': 7.0}), (47, 6, {'weight': 9.0})]\n"
     ]
    }
   ],
   "source": [
    "G1 = nx.read_edgelist('./yeast.txt', nodetype=int,data=(('weight',float),))\n",
    "G2 = nx.read_edgelist('./US_airports.txt', nodetype=int,data=(('weight',float),))\n",
    "\n",
    "#g1 = nx.read_weighted_edgelist('./yeast.txt')\n",
    "#g2 = nx.read_weighted_edgelist('./US_airports.txt')\n",
    "\n",
    "print('G1 (yeast)')\n",
    "print(G1.number_of_nodes(), G1.number_of_edges(), G1.is_directed(), np.round(nx.density(G1), 4))\n",
    "print('density:', np.round(np.mean([e[1] for e in nx.clustering(G1).items()]), 4))\n",
    "print(list(G1.edges(data=True))[0:3])\n",
    "\n",
    "print('\\nG2 (airports)')\n",
    "print(G2.number_of_nodes(), G2.number_of_edges(), G2.is_directed(), np.round(nx.density(G2), 4))\n",
    "print('density:', np.round(np.mean([e[1] for e in nx.clustering(G2).items()]), 4))\n",
    "print(list(G2.edges(data=True))[0:3])"
   ]
  },
  {
   "cell_type": "markdown",
   "metadata": {},
   "source": [
    "---\n",
    "### Top 10 nodes for each centrality metric"
   ]
  },
  {
   "cell_type": "markdown",
   "metadata": {},
   "source": [
    "#### Function"
   ]
  },
  {
   "cell_type": "code",
   "execution_count": 216,
   "metadata": {},
   "outputs": [],
   "source": [
    "def top_10_centrality(g):\n",
    "    metrics = ['eigenvector','katz','pagerank','closeness','harmonic','shortestpathsbetween']\n",
    "    res = {}\n",
    "\n",
    "    res['eigenvector'] = [i[0] for i in sorted(nx.centrality.eigenvector_centrality(g).items(), key=lambda x: x[1])[-10:]]\n",
    "    res['katz'] = [i[0] for i in sorted(nx.centrality.katz_centrality_numpy(g).items(), key=lambda x: x[1])[-10:]]\n",
    "    res['pagerank'] = [i[0] for i in sorted(nx.pagerank(g).items(), key=lambda x: x[1])[-10:]]\n",
    "    res['closeness'] = [i[0] for i in sorted(nx.centrality.closeness_centrality(g).items(), key=lambda x: x[1])[-10:]]\n",
    "    res['harmonic'] = [i[0] for i in sorted(nx.centrality.harmonic_centrality(g).items(), key=lambda x: x[1])[-10:]]\n",
    "    res['shortestpathsbetween'] = [i[0] for i in sorted(nx.centrality.betweenness_centrality(g).items(), key=lambda x: x[1])[-10:]]\n",
    "    \n",
    "    print('Top 10 nodes by centrality metric')\n",
    "    for m in metrics:\n",
    "        print(m.ljust(20), '\\t', res[m])"
   ]
  },
  {
   "cell_type": "markdown",
   "metadata": {},
   "source": [
    "#### G1 (yeast)"
   ]
  },
  {
   "cell_type": "code",
   "execution_count": 217,
   "metadata": {},
   "outputs": [
    {
     "name": "stdout",
     "output_type": "stream",
     "text": [
      "Top 10 nodes by centrality metric\n",
      "eigenvector          \t [271, 143, 364, 100, 654, 64, 549, 590, 578, 556]\n",
      "katz                 \t [271, 143, 364, 100, 654, 64, 590, 549, 578, 556]\n",
      "pagerank             \t [361, 360, 684, 371, 617, 625, 578, 332, 209, 556]\n",
      "closeness            \t [578, 456, 209, 64, 57, 556, 355, 197, 609, 617]\n",
      "harmonic             \t [561, 64, 57, 578, 197, 355, 209, 609, 617, 556]\n",
      "shortestpathsbetween \t [119, 371, 684, 332, 355, 625, 609, 556, 209, 617]\n"
     ]
    }
   ],
   "source": [
    "top_10_centrality(G1)"
   ]
  },
  {
   "cell_type": "markdown",
   "metadata": {},
   "source": [
    "#### G2 (airports)"
   ]
  },
  {
   "cell_type": "code",
   "execution_count": 218,
   "metadata": {},
   "outputs": [
    {
     "name": "stdout",
     "output_type": "stream",
     "text": [
      "Top 10 nodes by centrality metric\n",
      "eigenvector          \t [206, 500, 711, 1252, 391, 1068, 709, 435, 114, 1200]\n",
      "katz                 \t [1611, 1462, 731, 344, 435, 246, 1374, 452, 1411, 875]\n",
      "pagerank             \t [1437, 711, 88, 766, 1433, 391, 389, 877, 1200, 114]\n",
      "closeness            \t [711, 500, 1200, 982, 766, 709, 389, 1068, 877, 114]\n",
      "harmonic             \t [982, 711, 500, 389, 1200, 766, 1068, 709, 877, 114]\n",
      "shortestpathsbetween \t [1068, 114, 389, 685, 1433, 1016, 766, 877, 505, 88]\n"
     ]
    }
   ],
   "source": [
    "top_10_centrality(G2)"
   ]
  },
  {
   "cell_type": "markdown",
   "metadata": {},
   "source": [
    "---\n",
    "### Jacard Similarity Heatmap"
   ]
  },
  {
   "cell_type": "markdown",
   "metadata": {},
   "source": [
    "#### Functions"
   ]
  },
  {
   "cell_type": "code",
   "execution_count": 201,
   "metadata": {
    "scrolled": true
   },
   "outputs": [],
   "source": [
    "def jaccard_sim(a, b):\n",
    "    intersect = [i for i in a if i in b]\n",
    "    union     = list(set(a + b))\n",
    "    return len(intersect) / len(union)\n",
    "\n",
    "def top_10_jaccard_summary(g):\n",
    "    \n",
    "    metrics = ['eigenvector','katz','pagerank','closeness','harmonic','shortestpathsbetween']\n",
    "    res = {}\n",
    "\n",
    "    res['eigenvector'] = [i[0] for i in sorted(nx.centrality.eigenvector_centrality(g).items(), key=lambda x: x[1])[-10:]]\n",
    "    res['katz'] = [i[0] for i in sorted(nx.centrality.katz_centrality_numpy(g).items(), key=lambda x: x[1])[-10:]]\n",
    "    res['pagerank'] = [i[0] for i in sorted(nx.pagerank(g).items(), key=lambda x: x[1])[-10:]]\n",
    "    res['closeness'] = [i[0] for i in sorted(nx.centrality.closeness_centrality(g).items(), key=lambda x: x[1])[-10:]]\n",
    "    res['harmonic'] = [i[0] for i in sorted(nx.centrality.harmonic_centrality(g).items(), key=lambda x: x[1])[-10:]]\n",
    "    res['shortestpathsbetween'] = [i[0] for i in sorted(nx.centrality.betweenness_centrality(g).items(), key=lambda x: x[1])[-10:]]\n",
    "    \n",
    "    print('Top 10 nodes')\n",
    "    for m in metrics:\n",
    "        print(m, res[m])\n",
    "    \n",
    "    results  = []\n",
    "    computed = []\n",
    "    \n",
    "    for m in metrics:\n",
    "        for mm in metrics:\n",
    "            js = (m, mm, jaccard_sim(res[m],res[mm]))\n",
    "            results.append(js)\n",
    "            \n",
    "    js = pd.DataFrame.from_records(results, columns=['metric_1','metric_2','jaccard'])\n",
    "    js = js.pivot(index='metric_1', columns='metric_2', values='jaccard') ## pivot\n",
    "    \n",
    "    return js.loc[metrics,metrics]"
   ]
  },
  {
   "cell_type": "markdown",
   "metadata": {},
   "source": [
    "#### G1 (yeast)"
   ]
  },
  {
   "cell_type": "code",
   "execution_count": 199,
   "metadata": {},
   "outputs": [
    {
     "data": {
      "text/plain": [
       "<AxesSubplot:xlabel='metric_2', ylabel='metric_1'>"
      ]
     },
     "execution_count": 199,
     "metadata": {},
     "output_type": "execute_result"
    },
    {
     "data": {
      "image/png": "[encoded data removed]",
      "text/plain": [
       "<Figure size 504x432 with 2 Axes>"
      ]
     },
     "metadata": {
      "needs_background": "light"
     },
     "output_type": "display_data"
    }
   ],
   "source": [
    "js = top_10_jaccard_summary(G1)\n",
    "\n",
    "plt.figure(figsize=(7,6))\n",
    "sns.heatmap(js, cmap=\"YlGnBu\", mask=np.triu(np.ones_like(js)))"
   ]
  },
  {
   "cell_type": "markdown",
   "metadata": {},
   "source": [
    "#### G2 (airports)"
   ]
  },
  {
   "cell_type": "code",
   "execution_count": 200,
   "metadata": {},
   "outputs": [
    {
     "data": {
      "text/plain": [
       "<AxesSubplot:xlabel='metric_2', ylabel='metric_1'>"
      ]
     },
     "execution_count": 200,
     "metadata": {},
     "output_type": "execute_result"
    },
    {
     "data": {
      "image/png": "[encoded data removed]",
      "text/plain": [
       "<Figure size 504x432 with 2 Axes>"
      ]
     },
     "metadata": {
      "needs_background": "light"
     },
     "output_type": "display_data"
    }
   ],
   "source": [
    "js = top_10_jaccard_summary(G2)\n",
    "\n",
    "plt.figure(figsize=(7,6))\n",
    "sns.heatmap(js, cmap=\"YlGnBu\", mask=np.triu(np.ones_like(js)))"
   ]
  },
  {
   "cell_type": "markdown",
   "metadata": {},
   "source": [
    "# END\n",
    "---"
   ]
  }
 ],
 "metadata": {
  "kernelspec": {
   "display_name": "Python 3",
   "language": "python",
   "name": "python3"
  },
  "language_info": {
   "codemirror_mode": {
    "name": "ipython",
    "version": 3
   },
   "file_extension": ".py",
   "mimetype": "text/x-python",
   "name": "python",
   "nbconvert_exporter": "python",
   "pygments_lexer": "ipython3",
   "version": "3.8.8"
  }
 },
 "nbformat": 4,
 "nbformat_minor": 4
}
